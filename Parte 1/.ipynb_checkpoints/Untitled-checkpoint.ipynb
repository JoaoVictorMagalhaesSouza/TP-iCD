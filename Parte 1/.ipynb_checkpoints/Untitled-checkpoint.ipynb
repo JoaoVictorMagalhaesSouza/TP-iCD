{
 "cells": [
  {
   "cell_type": "code",
   "execution_count": 4,
   "id": "31e9688a-3c18-4580-bdc3-6c48b51cd45b",
   "metadata": {},
   "outputs": [],
   "source": [
    "import pandas as pd\n",
    "import numpy as np\n"
   ]
  },
  {
   "cell_type": "code",
   "execution_count": 38,
   "id": "0bfb074d-b75d-40f8-9ad9-a7f02812f5aa",
   "metadata": {},
   "outputs": [],
   "source": [
    "dados = pd.read_csv(\"caso_full.csv\",index_col=False,header=None,squeeze=True,low_memory=False)\n"
   ]
  },
  {
   "cell_type": "code",
   "execution_count": 33,
   "id": "1e97ba5d-5de5-4383-b490-09c1820f429e",
   "metadata": {},
   "outputs": [
    {
     "data": {
      "text/plain": [
       "Int64Index([0, 1, 2, 3, 4, 5, 6, 7, 8, 9, 10, 11], dtype='int64')"
      ]
     },
     "execution_count": 33,
     "metadata": {},
     "output_type": "execute_result"
    }
   ],
   "source": [
    "dados.columns"
   ]
  },
  {
   "cell_type": "code",
   "execution_count": 42,
   "id": "6312b3b7-f125-47c1-b3ed-c70cecd4561a",
   "metadata": {},
   "outputs": [
    {
     "data": {
      "text/plain": [
       "0                  city\n",
       "1            Rio Branco\n",
       "2                   NaN\n",
       "3            Rio Branco\n",
       "4                   NaN\n",
       "               ...     \n",
       "2556348        Tupirama\n",
       "2556349      Tupiratins\n",
       "2556350    Wanderlândia\n",
       "2556351         Xambioá\n",
       "2556352             NaN\n",
       "Name: 0, Length: 2556353, dtype: object"
      ]
     },
     "metadata": {},
     "output_type": "display_data"
    }
   ],
   "source": [
    "display(dados)\n",
    "vdl = dados[dados[0] == \"Virgem da Lapa\"]\n",
    "display(vdl)"
   ]
  },
  {
   "cell_type": "code",
   "execution_count": null,
   "id": "a64228b3-8c2b-4500-95d6-5f8b2ee85d41",
   "metadata": {},
   "outputs": [],
   "source": []
  }
 ],
 "metadata": {
  "kernelspec": {
   "display_name": "Python 3 (ipykernel)",
   "language": "python",
   "name": "python3"
  },
  "language_info": {
   "codemirror_mode": {
    "name": "ipython",
    "version": 3
   },
   "file_extension": ".py",
   "mimetype": "text/x-python",
   "name": "python",
   "nbconvert_exporter": "python",
   "pygments_lexer": "ipython3",
   "version": "3.9.4"
  }
 },
 "nbformat": 4,
 "nbformat_minor": 5
}
